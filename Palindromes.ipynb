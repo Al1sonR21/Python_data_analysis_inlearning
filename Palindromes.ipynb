{
 "cells": [
  {
   "cell_type": "markdown",
   "metadata": {},
   "source": [
    "# Palindromes challenge\n",
    "### Find all palindromic pairs of words at the dictionary (Including true palindromes such as radar)"
   ]
  }
 ],
 "metadata": {
  "language_info": {
   "name": "python"
  }
 },
 "nbformat": 4,
 "nbformat_minor": 2
}
